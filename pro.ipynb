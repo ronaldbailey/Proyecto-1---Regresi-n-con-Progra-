{
 "cells": [
  {
   "cell_type": "code",
   "execution_count": 23,
   "metadata": {},
   "outputs": [
    {
     "data": {
      "application/javascript": "// Import eCharts, the Javascript charting library\nrequire.config({\n    paths: {\n        ech: 'https://cdnjs.cloudflare.com/ajax/libs/echarts/4.8.0/echarts.min'\n    }\n});\n",
      "text/plain": [
       "<IPython.core.display.Javascript object>"
      ]
     },
     "metadata": {},
     "output_type": "display_data"
    }
   ],
   "source": [
    "%%javascript\n",
    "// Import eCharts, the Javascript charting library\n",
    "require.config({\n",
    "    paths: {\n",
    "        ech: 'https://cdnjs.cloudflare.com/ajax/libs/echarts/4.8.0/echarts.min'\n",
    "    }\n",
    "});"
   ]
  },
  {
   "cell_type": "code",
   "execution_count": 24,
   "metadata": {},
   "outputs": [
    {
     "data": {
      "application/javascript": "window.buildChart = function(cellElement){\n  (function(element) {\n    // Execute the following code after requiring `ech`\n    require.config({\n      paths: {\n        echarts: 'https://cdnjs.cloudflare.com/ajax/libs/echarts/4.8.0/echarts.min'\n      }\n    });\n    require(['echarts'], function (echarts) {\n      \n      // Append to the current \"Cell Element\" the chart's container\n      cellElement.append(\"<div id='main' style='height:500px;'></div>\")\n      \n      // Init ECharts\n      var myChart = echarts.init(document.getElementById('main'));\n      \n      // Create data object\n      var data = {\n        xData: ['Jan', 'Feb', 'Mar', 'Apr', 'May'],\n        yData: [10, 20, 15, 25, 30]\n      }\n      \n      myChart.setOption({\n        title: {\n          text: 'Gráfico de Línea'\n        },\n        tooltip: {\n          trigger: 'axis'\n        },\n        xAxis: {\n          type: 'category',\n          data: data.xData\n        },\n        yAxis: {\n          type: 'value'\n        },\n        series: [{\n          data: data.yData,\n          type: 'line'\n        }]\n      });\n    });\n  })(element);\n}\n",
      "text/plain": [
       "<IPython.core.display.Javascript object>"
      ]
     },
     "metadata": {},
     "output_type": "display_data"
    }
   ],
   "source": [
    "%%javascript\n",
    "window.buildChart = function(cellElement){\n",
    "  (function(element) {\n",
    "    // Execute the following code after requiring `ech`\n",
    "    require.config({\n",
    "      paths: {\n",
    "        echarts: 'https://cdnjs.cloudflare.com/ajax/libs/echarts/4.8.0/echarts.min'\n",
    "      }\n",
    "    });\n",
    "    require(['echarts'], function (echarts) {\n",
    "      \n",
    "      // Append to the current \"Cell Element\" the chart's container\n",
    "      cellElement.append(\"<div id='main' style='height:500px;'></div>\")\n",
    "      \n",
    "      // Init ECharts\n",
    "      var myChart = echarts.init(document.getElementById('main'));\n",
    "      \n",
    "      // Create data object\n",
    "      var data = {\n",
    "        xData: ['Jan', 'Feb', 'Mar', 'Apr', 'May'],\n",
    "        yData: [10, 20, 15, 25, 30]\n",
    "      }\n",
    "      \n",
    "      myChart.setOption({\n",
    "        title: {\n",
    "          text: 'Gráfico de Línea'\n",
    "        },\n",
    "        tooltip: {\n",
    "          trigger: 'axis'\n",
    "        },\n",
    "        xAxis: {\n",
    "          type: 'category',\n",
    "          data: data.xData\n",
    "        },\n",
    "        yAxis: {\n",
    "          type: 'value'\n",
    "        },\n",
    "        series: [{\n",
    "          data: data.yData,\n",
    "          type: 'line'\n",
    "        }]\n",
    "      });\n",
    "    });\n",
    "  })(element);\n",
    "}\n"
   ]
  },
  {
   "cell_type": "code",
   "execution_count": 25,
   "metadata": {},
   "outputs": [
    {
     "data": {
      "application/javascript": "window.buildChart(element)\n",
      "text/plain": [
       "<IPython.core.display.Javascript object>"
      ]
     },
     "metadata": {},
     "output_type": "display_data"
    }
   ],
   "source": [
    "%%javascript\n",
    "window.buildChart(element)"
   ]
  },
  {
   "cell_type": "code",
   "execution_count": 20,
   "metadata": {},
   "outputs": [
    {
     "name": "stdout",
     "output_type": "stream",
     "text": [
      "test\n"
     ]
    }
   ],
   "source": [
    "%%script node   \n",
    "console.log(\"test\");"
   ]
  },
  {
   "cell_type": "code",
   "execution_count": 17,
   "metadata": {},
   "outputs": [
    {
     "ename": "AttributeError",
     "evalue": "'list' object has no attribute 'columns'",
     "output_type": "error",
     "traceback": [
      "\u001b[1;31m---------------------------------------------------------------------------\u001b[0m",
      "\u001b[1;31mAttributeError\u001b[0m                            Traceback (most recent call last)",
      "Cell \u001b[1;32mIn[17], line 11\u001b[0m\n\u001b[0;32m      4\u001b[0m ml \u001b[39m=\u001b[39m ML(\u001b[39m'\u001b[39m\u001b[39m./proyecto_data/proyecto_training_data.npy\u001b[39m\u001b[39m'\u001b[39m, \u001b[39m0.8\u001b[39m)\n\u001b[0;32m      6\u001b[0m \u001b[39m#ml.hsitograma(ml.datos)\t\u001b[39;00m\n\u001b[0;32m      7\u001b[0m \u001b[39m#ml.corrGrafica(ml.datos)\u001b[39;00m\n\u001b[0;32m      8\u001b[0m \u001b[39m#ml.corrGrafica(ml.entrenamiento)\u001b[39;00m\n\u001b[0;32m      9\u001b[0m \n\u001b[0;32m     10\u001b[0m \u001b[39m#ml.corrGrafica(ml.validacion)\u001b[39;00m\n\u001b[1;32m---> 11\u001b[0m ml\u001b[39m.\u001b[39;49mhsitograma([ml\u001b[39m.\u001b[39;49mvalidacion,ml\u001b[39m.\u001b[39;49mentrenamiento])\n",
      "File \u001b[1;32md:\\Maestria\\Trimestre 1\\Ciencia de Datos en Python\\proyecto 1\\Proyecto-1---Regresi-n-con-Progra-\\ML\\ML.py:52\u001b[0m, in \u001b[0;36mML.hsitograma\u001b[1;34m(self, data)\u001b[0m\n\u001b[0;32m     51\u001b[0m \u001b[39mdef\u001b[39;00m \u001b[39mhsitograma\u001b[39m(\u001b[39mself\u001b[39m,data):\n\u001b[1;32m---> 52\u001b[0m     fig, axs \u001b[39m=\u001b[39m plt\u001b[39m.\u001b[39msubplots(nrows\u001b[39m=\u001b[39m\u001b[39mlen\u001b[39m(data\u001b[39m.\u001b[39;49mcolumns), figsize\u001b[39m=\u001b[39m(\u001b[39m20\u001b[39m,\u001b[39m15\u001b[39m))\n\u001b[0;32m     53\u001b[0m     \u001b[39mfor\u001b[39;00m i, columna \u001b[39min\u001b[39;00m \u001b[39menumerate\u001b[39m(data\u001b[39m.\u001b[39mcolumns):\n\u001b[0;32m     54\u001b[0m         sns\u001b[39m.\u001b[39mhistplot(data[columna],ax\u001b[39m=\u001b[39maxs[i\u001b[39m-\u001b[39m\u001b[39m1\u001b[39m],kde\u001b[39m=\u001b[39m\u001b[39mTrue\u001b[39;00m,color\u001b[39m=\u001b[39m\u001b[39m'\u001b[39m\u001b[39mred\u001b[39m\u001b[39m'\u001b[39m)\n",
      "\u001b[1;31mAttributeError\u001b[0m: 'list' object has no attribute 'columns'"
     ]
    }
   ],
   "source": [
    "from ML.ML import ML\n",
    "\n",
    "# Crear un objeto de la clase ML\n",
    "ml = ML('./proyecto_data/proyecto_training_data.npy', 0.8)\n",
    "\n",
    "#ml.hsitograma(ml.datos)\t\n",
    "#ml.corrGrafica(ml.datos)\n",
    "#ml.corrGrafica(ml.entrenamiento)\n",
    "\n",
    "#ml.corrGrafica(ml.validacion)\n",
    "ml.hsitograma(ml.validacion)\n"
   ]
  }
 ],
 "metadata": {
  "kernelspec": {
   "display_name": ".lab1",
   "language": "python",
   "name": "python3"
  },
  "language_info": {
   "codemirror_mode": {
    "name": "ipython",
    "version": 3
   },
   "file_extension": ".py",
   "mimetype": "text/x-python",
   "name": "python",
   "nbconvert_exporter": "python",
   "pygments_lexer": "ipython3",
   "version": "3.10.4"
  },
  "orig_nbformat": 4,
  "vscode": {
   "interpreter": {
    "hash": "7adbce2b6e7e5f133ffdfc81941aca518029a9627b82a13940b2da088a335493"
   }
  }
 },
 "nbformat": 4,
 "nbformat_minor": 2
}
